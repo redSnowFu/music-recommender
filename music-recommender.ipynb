{
 "cells": [
  {
   "cell_type": "code",
   "execution_count": null,
   "id": "d17ee9bd",
   "metadata": {},
   "outputs": [],
   "source": [
    "# import the data\n",
    "# clean the data\n",
    "# split the data into training/test set, input/output set\n",
    "# create a model\n",
    "# train the model\n",
    "# make predictions\n",
    "# evaluate and improve\n",
    "\n",
    "# libraries: pandas, numpy, MatPlotLib, Scikit-Learn"
   ]
  },
  {
   "cell_type": "code",
   "execution_count": 12,
   "id": "a81ebfb2",
   "metadata": {},
   "outputs": [
    {
     "data": {
      "text/plain": [
       "['music-recommender.joblib']"
      ]
     },
     "execution_count": 12,
     "metadata": {},
     "output_type": "execute_result"
    }
   ],
   "source": [
    "import pandas as pd\n",
    "#import DecisionTreeClassifier class from tree model of sklearn package\n",
    "from sklearn.tree import DecisionTreeClassifier\n",
    "from sklearn.model_selection import train_test_split\n",
    "from sklearn.metrics import accuracy_score\n",
    "from sklearn import tree\n",
    "\n",
    "#from sklearn.externals import joblib\n",
    "import joblib\n",
    "\n",
    "# import data\n",
    "music_data=pd.read_csv(r'D:\\0data\\dataset\\music.csv')\n",
    "# split the data into training/test set, input/output set(X, y)\n",
    "X=music_data.drop(columns=['genre'])\n",
    "y=music_data['genre']\n",
    "X_train, X_test, y_train, y_test = train_test_split(X, y, test_size=0.2)\n",
    "\n",
    "#create a model and train it\n",
    "model = DecisionTreeClassifier()\n",
    "model.fit(X_train, y_train)\n",
    "# make predictions\n",
    "predictions = model.predict(X_test)\n",
    "# evaluate the model\n",
    "score = accuracy_score(y_test, predictions)\n",
    "score\n",
    "\n",
    "# persist the trained model\n",
    "joblib.dump(model, 'music-recommender.joblib')"
   ]
  },
  {
   "cell_type": "code",
   "execution_count": 13,
   "id": "c945e393",
   "metadata": {},
   "outputs": [
    {
     "data": {
      "text/plain": [
       "array(['Hiphop'], dtype=object)"
      ]
     },
     "execution_count": 13,
     "metadata": {},
     "output_type": "execute_result"
    }
   ],
   "source": [
    "# load and use the trained model\n",
    "model = joblib.load('music-recommender.joblib')\n",
    "predictions = model.predict([[21,1]])\n",
    "predictions"
   ]
  },
  {
   "cell_type": "code",
   "execution_count": 14,
   "id": "e0064351",
   "metadata": {},
   "outputs": [],
   "source": [
    "# filled=color, rounded=rounded corner, label=add lebel\n",
    "# this saving file is for visulization of how decisions are made\n",
    "tree.export_graphviz(model, out_file='music-recommender.dot',\n",
    "                    feature_names=['age', 'gender'],\n",
    "                    class_names=sorted(y.unique()),\n",
    "                    label='all',\n",
    "                    rounded=True,\n",
    "                    filled=True)"
   ]
  },
  {
   "cell_type": "code",
   "execution_count": null,
   "id": "6668a9d9",
   "metadata": {},
   "outputs": [],
   "source": []
  }
 ],
 "metadata": {
  "kernelspec": {
   "display_name": "Python 3 (ipykernel)",
   "language": "python",
   "name": "python3"
  },
  "language_info": {
   "codemirror_mode": {
    "name": "ipython",
    "version": 3
   },
   "file_extension": ".py",
   "mimetype": "text/x-python",
   "name": "python",
   "nbconvert_exporter": "python",
   "pygments_lexer": "ipython3",
   "version": "3.9.7"
  }
 },
 "nbformat": 4,
 "nbformat_minor": 5
}
